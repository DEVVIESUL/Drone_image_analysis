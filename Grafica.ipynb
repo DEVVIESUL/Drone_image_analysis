{
  "nbformat": 4,
  "nbformat_minor": 0,
  "metadata": {
    "colab": {
      "name": "Untitled14.ipynb",
      "provenance": [],
      "authorship_tag": "ABX9TyNsS6aPaqxy6w+wsAhrdTER",
      "include_colab_link": true
    },
    "kernelspec": {
      "name": "ir",
      "display_name": "R"
    },
    "language_info": {
      "name": "R"
    }
  },
  "cells": [
    {
      "cell_type": "markdown",
      "metadata": {
        "id": "view-in-github",
        "colab_type": "text"
      },
      "source": [
        "<a href=\"https://colab.research.google.com/github/DEVVIESUL/Drone_image_analysis/blob/main/Grafica.ipynb\" target=\"_parent\"><img src=\"https://colab.research.google.com/assets/colab-badge.svg\" alt=\"Open In Colab\"/></a>"
      ]
    },
    {
      "cell_type": "markdown",
      "source": [
        "Niveles Troficos:\n",
        "a1: Aquatic plant-consumers\n",
        "t1: Terrestrial plant-consumers\n",
        "a2: Aquatic insectivores\n",
        "t2: Terrestrial insectivores\n",
        "a2.5: Aquatic secondary consumers\n",
        "a3: Piscivores\n",
        "t3: Carnivores"
      ],
      "metadata": {
        "id": "lW-nVWxhCjM0"
      }
    },
    {
      "cell_type": "code",
      "source": [
        "# Librerias\n",
        "install.packages(\"dplyr\")\n",
        "library(dplyr)\n",
        "\n",
        "# Plot\n",
        "install.packages(\"tidyverse\")\n",
        "library(tidyverse)\n",
        "\n",
        "# Install and load data.table\n",
        "install.packages(\"data.table\")           \n",
        "library(\"data.table\")"
      ],
      "metadata": {
        "colab": {
          "base_uri": "https://localhost:8080/"
        },
        "id": "-48ah1BBL3Ti",
        "outputId": "4bc5bda9-e99c-44f6-ad31-d3db994df7a6"
      },
      "execution_count": null,
      "outputs": [
        {
          "output_type": "stream",
          "name": "stderr",
          "text": [
            "Installing package into ‘/usr/local/lib/R/site-library’\n",
            "(as ‘lib’ is unspecified)\n",
            "\n",
            "Installing package into ‘/usr/local/lib/R/site-library’\n",
            "(as ‘lib’ is unspecified)\n",
            "\n",
            "Installing package into ‘/usr/local/lib/R/site-library’\n",
            "(as ‘lib’ is unspecified)\n",
            "\n",
            "\n",
            "Attaching package: ‘data.table’\n",
            "\n",
            "\n",
            "The following object is masked from ‘package:purrr’:\n",
            "\n",
            "    transpose\n",
            "\n",
            "\n",
            "The following objects are masked from ‘package:dplyr’:\n",
            "\n",
            "    between, first, last\n",
            "\n",
            "\n"
          ]
        }
      ]
    },
    {
      "cell_type": "code",
      "execution_count": null,
      "metadata": {
        "id": "WS_X5fJIGgRR"
      },
      "outputs": [],
      "source": [
        "# Repositorio\n",
        "Github <- \"https://raw.githubusercontent.com/DEVVIESUL/Drone_image_analysis/main/\"\n",
        "#Leer Datos\n",
        "Datos <- read.csv(paste(Github,'Data/Datos.csv',sep=\"\"), header=T)\n",
        "df <- data.frame(Datos)\n",
        "\n",
        "\n",
        "\n"
      ]
    },
    {
      "cell_type": "code",
      "source": [
        "Trophic_guild <- df[1,, drop=TRUE][-1]\n",
        "names(Trophic_guild) <- NULL\n",
        "rownames(Trophic_guild) <- NULL\n",
        "a = data.frame(Trophic_guild)"
      ],
      "metadata": {
        "id": "BOTYcJJYHEAs"
      },
      "execution_count": null,
      "outputs": []
    },
    {
      "cell_type": "code",
      "source": [
        "spe <- names(df)[-1]\n",
        "cto <- as.numeric(df[2,][-1])"
      ],
      "metadata": {
        "id": "npQU-8USHEHK"
      },
      "execution_count": null,
      "outputs": []
    },
    {
      "cell_type": "code",
      "source": [
        "data <- data.frame(spe,cto)\n",
        "ggplot(data = data) +\n",
        "  geom_point(mapping = aes(x = spe, y = cto)) "
      ],
      "metadata": {
        "colab": {
          "base_uri": "https://localhost:8080/",
          "height": 437
        },
        "id": "bPuzQ-BJRb8r",
        "outputId": "a9b5958a-f6eb-4874-be3a-d72faa7d9e09"
      },
      "execution_count": null,
      "outputs": [
        {
          "output_type": "display_data",
          "data": {
            "image/png": "[encoded data removed]",
            "text/plain": [
              "plot without title"
            ]
          },
          "metadata": {
            "image/png": {
              "width": 420,
              "height": 420
            }
          }
        }
      ]
    },
    {
      "cell_type": "code",
      "source": [
        "is.vector(spe)"
      ],
      "metadata": {
        "colab": {
          "base_uri": "https://localhost:8080/",
          "height": 34
        },
        "id": "T2qQflidIjGs",
        "outputId": "8636fb22-59d8-422c-c3bd-96431205e119"
      },
      "execution_count": null,
      "outputs": [
        {
          "output_type": "display_data",
          "data": {
            "text/plain": [
              "[1] TRUE"
            ],
            "text/latex": "TRUE",
            "text/markdown": "TRUE",
            "text/html": [
              "TRUE"
            ]
          },
          "metadata": {}
        }
      ]
    },
    {
      "cell_type": "code",
      "source": [
        "is.vector(spe)"
      ],
      "metadata": {
        "colab": {
          "base_uri": "https://localhost:8080/",
          "height": 34
        },
        "id": "KN_5pKN9MgO6",
        "outputId": "bae23e19-b46e-49b0-b36d-f73f59895f66"
      },
      "execution_count": null,
      "outputs": [
        {
          "output_type": "display_data",
          "data": {
            "text/plain": [
              "[1] TRUE"
            ],
            "text/latex": "TRUE",
            "text/markdown": "TRUE",
            "text/html": [
              "TRUE"
            ]
          },
          "metadata": {}
        }
      ]
    },
    {
      "cell_type": "code",
      "source": [
        ""
      ],
      "metadata": {
        "id": "awxVT3GUMS5E"
      },
      "execution_count": null,
      "outputs": []
    },
    {
      "cell_type": "code",
      "source": [
        ""
      ],
      "metadata": {
        "id": "19elceM9N-jX"
      },
      "execution_count": null,
      "outputs": []
    },
    {
      "cell_type": "code",
      "source": [
        ""
      ],
      "metadata": {
        "id": "i5-ExKOWN_gu"
      },
      "execution_count": null,
      "outputs": []
    }
  ]
}